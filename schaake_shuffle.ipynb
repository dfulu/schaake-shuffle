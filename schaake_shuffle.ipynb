{
 "cells": [
  {
   "cell_type": "code",
   "execution_count": 1,
   "id": "0784251c-710d-4d9e-a08f-d2160dc1ee1b",
   "metadata": {},
   "outputs": [],
   "source": [
    "import numpy as np\n",
    "import pandas as pd"
   ]
  },
  {
   "cell_type": "markdown",
   "id": "5c26848d-db97-48ca-a41d-97fec4103a85",
   "metadata": {},
   "source": [
    "This notebook is a follow through the Schaake shuffle paper \n",
    "- https://journals.ametsoc.org/view/journals/hydr/5/1/1525-7541_2004_005_0243_tssamf_2_0_co_2.xml\n",
    "\n",
    "It shows that the shuffle is equivalent to quantile mapping.\n",
    "\n",
    "-------\n",
    "\n",
    "Use the data example from the paper:"
   ]
  },
  {
   "cell_type": "markdown",
   "id": "067220df-517f-4060-89b7-e06f84055d8e",
   "metadata": {},
   "source": [
    "<img src=\"variables.png\" alt=\"drawing\" width=\"400\"/>"
   ]
  },
  {
   "cell_type": "code",
   "execution_count": 2,
   "id": "bfa42078-3675-46f2-8d7e-e485e2598c2e",
   "metadata": {},
   "outputs": [],
   "source": [
    "x = [15.3, 11.2, 8.8, 11.9, 7.5, 9.7, 8.3, 12.5, 10.3, 10.1]\n",
    "y = [10.7, 9.3, 6.8, 11.3, 12.2, 13.6, 8.9, 9.9, 11.8, 12.9]"
   ]
  },
  {
   "cell_type": "code",
   "execution_count": 3,
   "id": "90d94c99-0a22-4b8a-8e56-f29dc9766729",
   "metadata": {},
   "outputs": [
    {
     "name": "stdout",
     "output_type": "stream",
     "text": [
      "X = array([ 7.5,  8.3,  8.8,  9.7, 10.1, 10.3, 11.2, 11.9, 12.5, 15.3])\n",
      "Y = array([ 6.8,  8.9,  9.3,  9.9, 10.7, 11.3, 11.8, 12.2, 12.9, 13.6])\n",
      "B = array([2, 6, 1, 7, 0, 3, 8, 4, 9, 5]) - note python is zero indexed\n"
     ]
    }
   ],
   "source": [
    "X = np.sort(x) # chi\n",
    "Y = np.sort(y) # gamma\n",
    "B = np.array(sorted(np.arange(len(y)), key=lambda i: y[i]))\n",
    "\n",
    "print(f\"{X = }\")\n",
    "print(f\"{Y = }\")\n",
    "print(f\"{B = } - note python is zero indexed\")"
   ]
  },
  {
   "cell_type": "markdown",
   "id": "adc3ef84-1d87-4e19-8df1-c37c86f2fc33",
   "metadata": {},
   "source": [
    "The algorithm for the shuffle proceedure is:"
   ]
  },
  {
   "cell_type": "markdown",
   "id": "a2193c8d-4859-4292-8146-043fcd631711",
   "metadata": {},
   "source": [
    "<img src=\"xss_method.png\" alt=\"drawing\" width=\"400\"/>"
   ]
  },
  {
   "cell_type": "code",
   "execution_count": 25,
   "id": "fb6cca6a-26c3-4e75-bc3d-8293ffae2439",
   "metadata": {},
   "outputs": [],
   "source": [
    "# This is the implementation\n",
    "\n",
    "Xss = [0]*len(y)\n",
    "for r in range(len(y)):\n",
    "    Xss[B[r]]=X[r]"
   ]
  },
  {
   "cell_type": "markdown",
   "id": "5027a033-8607-4108-9efb-9e2027237b94",
   "metadata": {},
   "source": [
    "This should give the result from the paper:"
   ]
  },
  {
   "cell_type": "markdown",
   "id": "347cef0d-1b46-46ea-aacc-47be32ed2a02",
   "metadata": {},
   "source": [
    "<img src=\"xss_results.png\" alt=\"drawing\" width=\"400\"/>"
   ]
  },
  {
   "cell_type": "code",
   "execution_count": 26,
   "id": "4849e00d-6665-4884-b2a1-5178bf3ec6c7",
   "metadata": {},
   "outputs": [
    {
     "name": "stdout",
     "output_type": "stream",
     "text": [
      "Xss = [10.1, 8.8, 7.5, 10.3, 11.9, 15.3, 8.3, 9.7, 11.2, 12.5]\n"
     ]
    }
   ],
   "source": [
    "# which it does\n",
    "print(f\"{Xss = }\")"
   ]
  },
  {
   "cell_type": "code",
   "execution_count": 27,
   "id": "3d24e4e5-728c-4e70-91a6-67b54a74b3db",
   "metadata": {},
   "outputs": [],
   "source": [
    "# Rewrite the shuffle as a function\n",
    "\n",
    "def schaake_shuffle(x, y):\n",
    "    X = np.sort(x)\n",
    "    B = sorted(np.arange(len(y)), key=lambda i: y[i])\n",
    "    Xss = [0]*len(y)\n",
    "    for r in range(len(y)):\n",
    "        Xss[B[r]]=X[r]\n",
    "    return Xss"
   ]
  },
  {
   "cell_type": "code",
   "execution_count": 7,
   "id": "db6790e1-49f4-46ff-b4ad-685130bdd58d",
   "metadata": {},
   "outputs": [],
   "source": [
    "# The shuffle is essentially quantile mapping. \n",
    "# We make this even clearer in version of function below\n",
    "\n",
    "def rank_map(x, y):\n",
    "    \"\"\"\n",
    "    \n",
    "    This version is easier to see its connection to quantile mapping.\n",
    "    This is quantile mapping y with respect to x.\n",
    "    \n",
    "    \"\"\"\n",
    "    X = np.sort(x)\n",
    "    Y = np.sort(y)\n",
    "    yx = []\n",
    "    for yi in y:\n",
    "        # if yi is nth largest in y select nth largest in x\n",
    "        yx += [X[np.argwhere(Y==yi).item()]]\n",
    "    return yx"
   ]
  },
  {
   "cell_type": "markdown",
   "id": "b3aadc15-cd40-4e2a-99d6-f8310b92a5d1",
   "metadata": {},
   "source": [
    "Sanity check - The two functions give the same results on the original data"
   ]
  },
  {
   "cell_type": "code",
   "execution_count": 8,
   "id": "d080b166-64ba-4bc7-9d3a-b8812ff97c21",
   "metadata": {},
   "outputs": [
    {
     "data": {
      "text/plain": [
       "[10.1, 8.8, 7.5, 10.3, 11.9, 15.3, 8.3, 9.7, 11.2, 12.5]"
      ]
     },
     "execution_count": 8,
     "metadata": {},
     "output_type": "execute_result"
    }
   ],
   "source": [
    "schaake_shuffle(x, y)"
   ]
  },
  {
   "cell_type": "code",
   "execution_count": 9,
   "id": "4cfe2984-9790-478e-870b-1e74525cc82d",
   "metadata": {},
   "outputs": [
    {
     "data": {
      "text/plain": [
       "[10.1, 8.8, 7.5, 10.3, 11.9, 15.3, 8.3, 9.7, 11.2, 12.5]"
      ]
     },
     "execution_count": 9,
     "metadata": {},
     "output_type": "execute_result"
    }
   ],
   "source": [
    "rank_map(x, y)"
   ]
  },
  {
   "cell_type": "markdown",
   "id": "01b8ed42-b87f-4543-af48-34e43b6b04c2",
   "metadata": {},
   "source": [
    "Lets use the full table from the paper"
   ]
  },
  {
   "cell_type": "markdown",
   "id": "eaacb179-55f5-46ef-a874-a237bf7a94ac",
   "metadata": {},
   "source": [
    "<img src=\"x_table.png\" alt=\"drawing\" width=\"400\"/>\n"
   ]
  },
  {
   "cell_type": "code",
   "execution_count": 24,
   "id": "409d5362-203a-45d1-a0b1-0b19fc33ee17",
   "metadata": {},
   "outputs": [
    {
     "data": {
      "text/html": [
       "<div>\n",
       "<style scoped>\n",
       "    .dataframe tbody tr th:only-of-type {\n",
       "        vertical-align: middle;\n",
       "    }\n",
       "\n",
       "    .dataframe tbody tr th {\n",
       "        vertical-align: top;\n",
       "    }\n",
       "\n",
       "    .dataframe thead th {\n",
       "        text-align: right;\n",
       "    }\n",
       "</style>\n",
       "<table border=\"1\" class=\"dataframe\">\n",
       "  <thead>\n",
       "    <tr style=\"text-align: right;\">\n",
       "      <th></th>\n",
       "      <th>Stn 1</th>\n",
       "      <th>Stn 2</th>\n",
       "      <th>Stn 3</th>\n",
       "    </tr>\n",
       "  </thead>\n",
       "  <tbody>\n",
       "    <tr>\n",
       "      <th>0</th>\n",
       "      <td>7.5</td>\n",
       "      <td>6.3</td>\n",
       "      <td>12.4</td>\n",
       "    </tr>\n",
       "    <tr>\n",
       "      <th>1</th>\n",
       "      <td>8.3</td>\n",
       "      <td>7.2</td>\n",
       "      <td>13.5</td>\n",
       "    </tr>\n",
       "    <tr>\n",
       "      <th>2</th>\n",
       "      <td>8.8</td>\n",
       "      <td>7.5</td>\n",
       "      <td>14.2</td>\n",
       "    </tr>\n",
       "    <tr>\n",
       "      <th>3</th>\n",
       "      <td>9.7</td>\n",
       "      <td>7.9</td>\n",
       "      <td>14.5</td>\n",
       "    </tr>\n",
       "    <tr>\n",
       "      <th>4</th>\n",
       "      <td>10.1</td>\n",
       "      <td>8.6</td>\n",
       "      <td>15.6</td>\n",
       "    </tr>\n",
       "    <tr>\n",
       "      <th>5</th>\n",
       "      <td>10.3</td>\n",
       "      <td>9.3</td>\n",
       "      <td>15.9</td>\n",
       "    </tr>\n",
       "    <tr>\n",
       "      <th>6</th>\n",
       "      <td>11.2</td>\n",
       "      <td>11.8</td>\n",
       "      <td>16.3</td>\n",
       "    </tr>\n",
       "    <tr>\n",
       "      <th>7</th>\n",
       "      <td>11.9</td>\n",
       "      <td>12.2</td>\n",
       "      <td>17.6</td>\n",
       "    </tr>\n",
       "    <tr>\n",
       "      <th>8</th>\n",
       "      <td>12.5</td>\n",
       "      <td>13.5</td>\n",
       "      <td>18.3</td>\n",
       "    </tr>\n",
       "    <tr>\n",
       "      <th>9</th>\n",
       "      <td>15.3</td>\n",
       "      <td>17.7</td>\n",
       "      <td>23.9</td>\n",
       "    </tr>\n",
       "  </tbody>\n",
       "</table>\n",
       "</div>"
      ],
      "text/plain": [
       "   Stn 1  Stn 2  Stn 3\n",
       "0    7.5    6.3   12.4\n",
       "1    8.3    7.2   13.5\n",
       "2    8.8    7.5   14.2\n",
       "3    9.7    7.9   14.5\n",
       "4   10.1    8.6   15.6\n",
       "5   10.3    9.3   15.9\n",
       "6   11.2   11.8   16.3\n",
       "7   11.9   12.2   17.6\n",
       "8   12.5   13.5   18.3\n",
       "9   15.3   17.7   23.9"
      ]
     },
     "execution_count": 24,
     "metadata": {},
     "output_type": "execute_result"
    }
   ],
   "source": [
    "x1 = [7.5, 8.3, 8.8, 9.7, 10.1, 10.3, 11.2, 11.9, 12.5, 15.3]\n",
    "x2 = [6.3, 7.2, 7.5, 7.9, 8.6, 9.3, 11.8, 12.2, 13.5, 17.7]\n",
    "x3 = [12.4, 13.5, 14.2, 14.5, 15.6, 15.9, 16.3, 17.6, 18.3, 23.9]\n",
    "\n",
    "pd.DataFrame({'Stn 1':x1, 'Stn 2':x2, 'Stn 3':x3})"
   ]
  },
  {
   "cell_type": "markdown",
   "id": "a28c8e35-aa0e-45da-af8b-b8b1ae21736e",
   "metadata": {},
   "source": [
    "<img src=\"y_table.png\" alt=\"drawing\" width=\"400\"/>"
   ]
  },
  {
   "cell_type": "code",
   "execution_count": 28,
   "id": "f0694a1c-4cf1-488d-8684-0bed0f30b1e5",
   "metadata": {},
   "outputs": [
    {
     "data": {
      "text/html": [
       "<div>\n",
       "<style scoped>\n",
       "    .dataframe tbody tr th:only-of-type {\n",
       "        vertical-align: middle;\n",
       "    }\n",
       "\n",
       "    .dataframe tbody tr th {\n",
       "        vertical-align: top;\n",
       "    }\n",
       "\n",
       "    .dataframe thead th {\n",
       "        text-align: right;\n",
       "    }\n",
       "</style>\n",
       "<table border=\"1\" class=\"dataframe\">\n",
       "  <thead>\n",
       "    <tr style=\"text-align: right;\">\n",
       "      <th></th>\n",
       "      <th>Stn 1</th>\n",
       "      <th>Stn 2</th>\n",
       "      <th>Stn 3</th>\n",
       "    </tr>\n",
       "  </thead>\n",
       "  <tbody>\n",
       "    <tr>\n",
       "      <th>0</th>\n",
       "      <td>10.7</td>\n",
       "      <td>10.9</td>\n",
       "      <td>13.5</td>\n",
       "    </tr>\n",
       "    <tr>\n",
       "      <th>1</th>\n",
       "      <td>9.3</td>\n",
       "      <td>9.1</td>\n",
       "      <td>13.7</td>\n",
       "    </tr>\n",
       "    <tr>\n",
       "      <th>2</th>\n",
       "      <td>6.8</td>\n",
       "      <td>7.2</td>\n",
       "      <td>9.3</td>\n",
       "    </tr>\n",
       "    <tr>\n",
       "      <th>3</th>\n",
       "      <td>11.3</td>\n",
       "      <td>10.7</td>\n",
       "      <td>15.6</td>\n",
       "    </tr>\n",
       "    <tr>\n",
       "      <th>4</th>\n",
       "      <td>12.2</td>\n",
       "      <td>13.1</td>\n",
       "      <td>17.8</td>\n",
       "    </tr>\n",
       "    <tr>\n",
       "      <th>5</th>\n",
       "      <td>13.6</td>\n",
       "      <td>14.2</td>\n",
       "      <td>19.3</td>\n",
       "    </tr>\n",
       "    <tr>\n",
       "      <th>6</th>\n",
       "      <td>8.9</td>\n",
       "      <td>9.4</td>\n",
       "      <td>12.1</td>\n",
       "    </tr>\n",
       "    <tr>\n",
       "      <th>7</th>\n",
       "      <td>9.9</td>\n",
       "      <td>9.2</td>\n",
       "      <td>11.8</td>\n",
       "    </tr>\n",
       "    <tr>\n",
       "      <th>8</th>\n",
       "      <td>11.8</td>\n",
       "      <td>11.9</td>\n",
       "      <td>15.2</td>\n",
       "    </tr>\n",
       "    <tr>\n",
       "      <th>9</th>\n",
       "      <td>12.9</td>\n",
       "      <td>12.5</td>\n",
       "      <td>16.9</td>\n",
       "    </tr>\n",
       "  </tbody>\n",
       "</table>\n",
       "</div>"
      ],
      "text/plain": [
       "   Stn 1  Stn 2  Stn 3\n",
       "0   10.7   10.9   13.5\n",
       "1    9.3    9.1   13.7\n",
       "2    6.8    7.2    9.3\n",
       "3   11.3   10.7   15.6\n",
       "4   12.2   13.1   17.8\n",
       "5   13.6   14.2   19.3\n",
       "6    8.9    9.4   12.1\n",
       "7    9.9    9.2   11.8\n",
       "8   11.8   11.9   15.2\n",
       "9   12.9   12.5   16.9"
      ]
     },
     "execution_count": 28,
     "metadata": {},
     "output_type": "execute_result"
    }
   ],
   "source": [
    "y1 = [10.7, 9.3, 6.8, 11.3, 12.2, 13.6, 8.9, 9.9, 11.8, 12.9]\n",
    "y2 = [10.9, 9.1, 7.2, 10.7, 13.1, 14.2, 9.4, 9.2, 11.9, 12.5]\n",
    "y3 = [13.5, 13.7, 9.3, 15.6, 17.8, 19.3, 12.1, 11.8, 15.2, 16.9]\n",
    "\n",
    "pd.DataFrame({'Stn 1':y1, 'Stn 2':y2, 'Stn 3':y3})"
   ]
  },
  {
   "cell_type": "markdown",
   "id": "e648a189-08a3-4238-957a-91badb65f756",
   "metadata": {},
   "source": [
    "Th expected results of running the shuffle on this data is:"
   ]
  },
  {
   "cell_type": "markdown",
   "id": "b1b689b4-59b0-4321-99ea-670b432c11fc",
   "metadata": {},
   "source": [
    "<img src=\"xss_table.png\" alt=\"drawing\" width=\"400\"/>"
   ]
  },
  {
   "cell_type": "code",
   "execution_count": 29,
   "id": "3f5e6cd3-2af3-47f9-a188-36e2e8d4df73",
   "metadata": {
    "tags": []
   },
   "outputs": [
    {
     "data": {
      "text/html": [
       "<div>\n",
       "<style scoped>\n",
       "    .dataframe tbody tr th:only-of-type {\n",
       "        vertical-align: middle;\n",
       "    }\n",
       "\n",
       "    .dataframe tbody tr th {\n",
       "        vertical-align: top;\n",
       "    }\n",
       "\n",
       "    .dataframe thead th {\n",
       "        text-align: right;\n",
       "    }\n",
       "</style>\n",
       "<table border=\"1\" class=\"dataframe\">\n",
       "  <thead>\n",
       "    <tr style=\"text-align: right;\">\n",
       "      <th></th>\n",
       "      <th>Stn 1</th>\n",
       "      <th>Stn 2</th>\n",
       "      <th>Stn 3</th>\n",
       "    </tr>\n",
       "  </thead>\n",
       "  <tbody>\n",
       "    <tr>\n",
       "      <th>0</th>\n",
       "      <td>10.1</td>\n",
       "      <td>9.3</td>\n",
       "      <td>14.5</td>\n",
       "    </tr>\n",
       "    <tr>\n",
       "      <th>1</th>\n",
       "      <td>8.8</td>\n",
       "      <td>7.2</td>\n",
       "      <td>15.6</td>\n",
       "    </tr>\n",
       "    <tr>\n",
       "      <th>2</th>\n",
       "      <td>7.5</td>\n",
       "      <td>6.3</td>\n",
       "      <td>12.4</td>\n",
       "    </tr>\n",
       "    <tr>\n",
       "      <th>3</th>\n",
       "      <td>10.3</td>\n",
       "      <td>8.6</td>\n",
       "      <td>16.3</td>\n",
       "    </tr>\n",
       "    <tr>\n",
       "      <th>4</th>\n",
       "      <td>11.9</td>\n",
       "      <td>13.5</td>\n",
       "      <td>18.3</td>\n",
       "    </tr>\n",
       "    <tr>\n",
       "      <th>5</th>\n",
       "      <td>15.3</td>\n",
       "      <td>17.7</td>\n",
       "      <td>23.9</td>\n",
       "    </tr>\n",
       "    <tr>\n",
       "      <th>6</th>\n",
       "      <td>8.3</td>\n",
       "      <td>7.9</td>\n",
       "      <td>14.2</td>\n",
       "    </tr>\n",
       "    <tr>\n",
       "      <th>7</th>\n",
       "      <td>9.7</td>\n",
       "      <td>7.5</td>\n",
       "      <td>13.5</td>\n",
       "    </tr>\n",
       "    <tr>\n",
       "      <th>8</th>\n",
       "      <td>11.2</td>\n",
       "      <td>11.8</td>\n",
       "      <td>15.9</td>\n",
       "    </tr>\n",
       "    <tr>\n",
       "      <th>9</th>\n",
       "      <td>12.5</td>\n",
       "      <td>12.2</td>\n",
       "      <td>17.6</td>\n",
       "    </tr>\n",
       "  </tbody>\n",
       "</table>\n",
       "</div>"
      ],
      "text/plain": [
       "   Stn 1  Stn 2  Stn 3\n",
       "0   10.1    9.3   14.5\n",
       "1    8.8    7.2   15.6\n",
       "2    7.5    6.3   12.4\n",
       "3   10.3    8.6   16.3\n",
       "4   11.9   13.5   18.3\n",
       "5   15.3   17.7   23.9\n",
       "6    8.3    7.9   14.2\n",
       "7    9.7    7.5   13.5\n",
       "8   11.2   11.8   15.9\n",
       "9   12.5   12.2   17.6"
      ]
     },
     "execution_count": 29,
     "metadata": {},
     "output_type": "execute_result"
    }
   ],
   "source": [
    "# The shuffle function we wrote recreates it\n",
    "pd.DataFrame({\n",
    "    f\"Stn 1\": schaake_shuffle(x1,y1),\n",
    "    f\"Stn 2\": schaake_shuffle(x2,y2),\n",
    "    f\"Stn 3\": schaake_shuffle(x3,y3),\n",
    "})"
   ]
  },
  {
   "cell_type": "code",
   "execution_count": 30,
   "id": "59be590e-1166-483b-8f3e-51b0c96475d1",
   "metadata": {},
   "outputs": [
    {
     "data": {
      "text/html": [
       "<div>\n",
       "<style scoped>\n",
       "    .dataframe tbody tr th:only-of-type {\n",
       "        vertical-align: middle;\n",
       "    }\n",
       "\n",
       "    .dataframe tbody tr th {\n",
       "        vertical-align: top;\n",
       "    }\n",
       "\n",
       "    .dataframe thead th {\n",
       "        text-align: right;\n",
       "    }\n",
       "</style>\n",
       "<table border=\"1\" class=\"dataframe\">\n",
       "  <thead>\n",
       "    <tr style=\"text-align: right;\">\n",
       "      <th></th>\n",
       "      <th>Stn 1</th>\n",
       "      <th>Stn 2</th>\n",
       "      <th>Stn 3</th>\n",
       "    </tr>\n",
       "  </thead>\n",
       "  <tbody>\n",
       "    <tr>\n",
       "      <th>0</th>\n",
       "      <td>10.1</td>\n",
       "      <td>9.3</td>\n",
       "      <td>14.5</td>\n",
       "    </tr>\n",
       "    <tr>\n",
       "      <th>1</th>\n",
       "      <td>8.8</td>\n",
       "      <td>7.2</td>\n",
       "      <td>15.6</td>\n",
       "    </tr>\n",
       "    <tr>\n",
       "      <th>2</th>\n",
       "      <td>7.5</td>\n",
       "      <td>6.3</td>\n",
       "      <td>12.4</td>\n",
       "    </tr>\n",
       "    <tr>\n",
       "      <th>3</th>\n",
       "      <td>10.3</td>\n",
       "      <td>8.6</td>\n",
       "      <td>16.3</td>\n",
       "    </tr>\n",
       "    <tr>\n",
       "      <th>4</th>\n",
       "      <td>11.9</td>\n",
       "      <td>13.5</td>\n",
       "      <td>18.3</td>\n",
       "    </tr>\n",
       "    <tr>\n",
       "      <th>5</th>\n",
       "      <td>15.3</td>\n",
       "      <td>17.7</td>\n",
       "      <td>23.9</td>\n",
       "    </tr>\n",
       "    <tr>\n",
       "      <th>6</th>\n",
       "      <td>8.3</td>\n",
       "      <td>7.9</td>\n",
       "      <td>14.2</td>\n",
       "    </tr>\n",
       "    <tr>\n",
       "      <th>7</th>\n",
       "      <td>9.7</td>\n",
       "      <td>7.5</td>\n",
       "      <td>13.5</td>\n",
       "    </tr>\n",
       "    <tr>\n",
       "      <th>8</th>\n",
       "      <td>11.2</td>\n",
       "      <td>11.8</td>\n",
       "      <td>15.9</td>\n",
       "    </tr>\n",
       "    <tr>\n",
       "      <th>9</th>\n",
       "      <td>12.5</td>\n",
       "      <td>12.2</td>\n",
       "      <td>17.6</td>\n",
       "    </tr>\n",
       "  </tbody>\n",
       "</table>\n",
       "</div>"
      ],
      "text/plain": [
       "   Stn 1  Stn 2  Stn 3\n",
       "0   10.1    9.3   14.5\n",
       "1    8.8    7.2   15.6\n",
       "2    7.5    6.3   12.4\n",
       "3   10.3    8.6   16.3\n",
       "4   11.9   13.5   18.3\n",
       "5   15.3   17.7   23.9\n",
       "6    8.3    7.9   14.2\n",
       "7    9.7    7.5   13.5\n",
       "8   11.2   11.8   15.9\n",
       "9   12.5   12.2   17.6"
      ]
     },
     "execution_count": 30,
     "metadata": {},
     "output_type": "execute_result"
    }
   ],
   "source": [
    "# The quantile mapping function we wrote also recreates it\n",
    "pd.DataFrame({\n",
    "    f\"Stn 1\": rank_map(x1,y1),\n",
    "    f\"Stn 2\": rank_map(x2,y2),\n",
    "    f\"Stn 3\": rank_map(x3,y3),\n",
    "})"
   ]
  },
  {
   "cell_type": "markdown",
   "id": "6872ab89-9b98-438b-b7c5-df83aa3d503e",
   "metadata": {},
   "source": [
    "So the Schaake shuffle is simply an empirical version of quantile mapping where we map the observations to the 1d distributions of the model data"
   ]
  },
  {
   "cell_type": "code",
   "execution_count": null,
   "id": "995509fc-8977-4341-8e61-6233ae6729f8",
   "metadata": {},
   "outputs": [],
   "source": []
  }
 ],
 "metadata": {
  "kernelspec": {
   "display_name": "Python 3 (ipykernel)",
   "language": "python",
   "name": "python3"
  },
  "language_info": {
   "codemirror_mode": {
    "name": "ipython",
    "version": 3
   },
   "file_extension": ".py",
   "mimetype": "text/x-python",
   "name": "python",
   "nbconvert_exporter": "python",
   "pygments_lexer": "ipython3",
   "version": "3.8.10"
  }
 },
 "nbformat": 4,
 "nbformat_minor": 5
}
